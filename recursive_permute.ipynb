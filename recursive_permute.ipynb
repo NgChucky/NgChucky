{
 "cells": [
  {
   "cell_type": "code",
   "execution_count": 1,
   "metadata": {},
   "outputs": [
    {
     "name": "stdout",
     "output_type": "stream",
     "text": [
      "1 6589\n",
      "2 5689\n",
      "3 5869\n",
      "4 5896\n",
      "5 6859\n",
      "6 8659\n",
      "7 8569\n",
      "8 8596\n",
      "9 6895\n",
      "10 8695\n",
      "11 8965\n",
      "12 8956\n",
      "13 6598\n",
      "14 5698\n",
      "15 5968\n",
      "16 5986\n",
      "17 6958\n",
      "18 9658\n",
      "19 9568\n",
      "20 9586\n",
      "21 6985\n",
      "22 9685\n",
      "23 9865\n",
      "24 9856\n"
     ]
    }
   ],
   "source": [
    "def permute(x):\n",
    "    if len(x)==1:\n",
    "        return x\n",
    "    else:\n",
    "        m = []\n",
    "        k = x[0]\n",
    "        n = permute(x[1:])\n",
    "        for i in n:\n",
    "            for j in range(len(i)+1):\n",
    "                m.append(i[:j] + k + i[j:])\n",
    "        return m\n",
    "x = input(\"Enter the string:\")\n",
    "count = 1\n",
    "for i in permute(x):\n",
    "    print(count, i)\n",
    "    count+=1"
   ]
  }
 ],
 "metadata": {
  "kernelspec": {
   "display_name": "Python 3",
   "language": "python",
   "name": "python3"
  },
  "language_info": {
   "codemirror_mode": {
    "name": "ipython",
    "version": 3
   },
   "file_extension": ".py",
   "mimetype": "text/x-python",
   "name": "python",
   "nbconvert_exporter": "python",
   "pygments_lexer": "ipython3",
   "version": "3.10.6"
  },
  "orig_nbformat": 4,
  "vscode": {
   "interpreter": {
    "hash": "64825b127850f06d660ccc759d50fe58aa809e5bf47b398724b59f0e5e6d0623"
   }
  }
 },
 "nbformat": 4,
 "nbformat_minor": 2
}
